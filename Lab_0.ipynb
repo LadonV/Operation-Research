{
  "nbformat": 4,
  "nbformat_minor": 0,
  "metadata": {
    "colab": {
      "provenance": [],
      "authorship_tag": "ABX9TyNYq+MRbx7zSPn5KKvxhq8P",
      "include_colab_link": true
    },
    "kernelspec": {
      "name": "python3",
      "display_name": "Python 3"
    },
    "language_info": {
      "name": "python"
    }
  },
  "cells": [
    {
      "cell_type": "markdown",
      "metadata": {
        "id": "view-in-github",
        "colab_type": "text"
      },
      "source": [
        "<a href=\"https://colab.research.google.com/github/LadonV/Operation-Research/blob/main/Lab_0.ipynb\" target=\"_parent\"><img src=\"https://colab.research.google.com/assets/colab-badge.svg\" alt=\"Open In Colab\"/></a>"
      ]
    },
    {
      "cell_type": "markdown",
      "source": [
        "Ladon Vance\n",
        "Operations Research\n",
        "Lab 0"
      ],
      "metadata": {
        "id": "THaSbMdLPLss"
      }
    },
    {
      "cell_type": "markdown",
      "source": [
        "My favorite function to use is regression. I like to make predictions based on the data given and be able to create a graph with a regression line."
      ],
      "metadata": {
        "id": "LMUvJD-2cbPa"
      }
    },
    {
      "cell_type": "code",
      "metadata": {
        "colab": {
          "base_uri": "https://localhost:8080/",
          "height": 507
        },
        "id": "14283425",
        "outputId": "a4330918-d161-4135-b98c-39d2e505082a"
      },
      "source": [
        "import numpy as np\n",
        "import matplotlib.pyplot as plt\n",
        "from sklearn.linear_model import LinearRegression\n",
        "\n",
        "# Generate some synthetic data\n",
        "np.random.seed(0)\n",
        "X = 2 * np.random.rand(100, 1)\n",
        "y = 4 + 3 * X + np.random.randn(100, 1)\n",
        "\n",
        "# Create a linear regression model\n",
        "model = LinearRegression()\n",
        "\n",
        "# Fit the model to the data\n",
        "model.fit(X, y)\n",
        "\n",
        "# Make predictions\n",
        "y_pred = model.predict(X)\n",
        "\n",
        "# Plot the results\n",
        "plt.scatter(X, y, label='Original data')\n",
        "plt.plot(X, y_pred, color='red', label='Regression line')\n",
        "plt.xlabel('X')\n",
        "plt.ylabel('y')\n",
        "plt.title('Linear Regression Example')\n",
        "plt.legend()\n",
        "plt.show()\n",
        "\n",
        "# Print the regression coefficients\n",
        "print(f\"Intercept: {model.intercept_[0]}\")\n",
        "print(f\"Coefficient: {model.coef_[0][0]}\")"
      ],
      "execution_count": null,
      "outputs": [
        {
          "output_type": "display_data",
          "data": {
            "text/plain": [
              "<Figure size 640x480 with 1 Axes>"
            ],
            "image/png": "[encoded data removed]"
          },
          "metadata": {}
        },
        {
          "output_type": "stream",
          "name": "stdout",
          "text": [
            "Intercept: 4.222151077447231\n",
            "Coefficient: 2.968467510701019\n"
          ]
        }
      ]
    },
    {
      "cell_type": "markdown",
      "source": [
        "This code creates \"random\" data by inputing a specific equation to create an x and y. There are perameters for x and y that are used to create 100 rows with 1 column meaning 100 total elements in the dataset. Then a linear regression model is created and the labes are put in to make the graph more presentable and readable."
      ],
      "metadata": {
        "id": "Qk_XMXbBczDR"
      }
    },
    {
      "cell_type": "code",
      "source": [
        "import numpy as np\n",
        "\n",
        "random_list = np.random.randint(1, 101, 10)\n",
        "print(random_list)"
      ],
      "metadata": {
        "colab": {
          "base_uri": "https://localhost:8080/"
        },
        "id": "75tBm_YGde8I",
        "outputId": "71935d2e-8970-4d70-cc43-76aae19ecd3d"
      },
      "execution_count": 2,
      "outputs": [
        {
          "output_type": "stream",
          "name": "stdout",
          "text": [
            "[84  8 73 62 14  6  1  9 80 80]\n"
          ]
        }
      ]
    },
    {
      "cell_type": "markdown",
      "source": [
        "This code generated 10 random numbers using a function from numpy.random. 1 is the inclusive lower bound and 101 is the exclusive uper bound. This is due to me wanting to keep the numbers between 1 and 100. Then the 10 is the number of argumnets I was wanting it to generate. Then I printed the numbers."
      ],
      "metadata": {
        "id": "qNVPLuwSd13h"
      }
    },
    {
      "cell_type": "code",
      "source": [
        "import numpy as np\n",
        "from scipy import stats\n",
        "\n",
        "list_sum = np.sum(random_list)\n",
        "list_min = np.min(random_list)\n",
        "list_max = np.max(random_list)\n",
        "list_mode_result = stats.mode(random_list, keepdims=True) # keepdims=True ensures consistent output structure\n",
        "\n",
        "print(f\"Sum: {list_sum}\")\n",
        "print(f\"Min: {list_min}\")\n",
        "print(f\"Max: {list_max}\")\n",
        "print(f\"Mode: {list_mode_result.mode[0]} (count: {list_mode_result.count[0]})\")"
      ],
      "metadata": {
        "colab": {
          "base_uri": "https://localhost:8080/"
        },
        "id": "pPxMxh3derR1",
        "outputId": "47d75434-92ce-42bb-c17b-e80b618a4957"
      },
      "execution_count": 6,
      "outputs": [
        {
          "output_type": "stream",
          "name": "stdout",
          "text": [
            "Sum: 417\n",
            "Min: 1\n",
            "Max: 84\n",
            "Mode: 80 (count: 2)\n"
          ]
        }
      ]
    },
    {
      "cell_type": "markdown",
      "source": [
        "I computed the sum, min, max, and mode of the 10 random values using np which was able to calculate the sum, min, and max. While I used stats to get the mode of the data, the keepdims = True is used in order to keep the output structure consistent so it could be counted and produce the mode."
      ],
      "metadata": {
        "id": "IgR7DHe2fHLk"
      }
    }
  ]
}