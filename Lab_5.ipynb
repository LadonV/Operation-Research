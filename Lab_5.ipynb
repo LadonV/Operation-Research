{
  "nbformat": 4,
  "nbformat_minor": 0,
  "metadata": {
    "colab": {
      "provenance": [],
      "authorship_tag": "ABX9TyNyLOEGs9SAuXzf8rwqcYf5",
      "include_colab_link": true
    },
    "kernelspec": {
      "name": "python3",
      "display_name": "Python 3"
    },
    "language_info": {
      "name": "python"
    }
  },
  "cells": [
    {
      "cell_type": "markdown",
      "metadata": {
        "id": "view-in-github",
        "colab_type": "text"
      },
      "source": [
        "<a href=\"https://colab.research.google.com/github/LadonV/Operation-Research/blob/main/Lab_5.ipynb\" target=\"_parent\"><img src=\"https://colab.research.google.com/assets/colab-badge.svg\" alt=\"Open In Colab\"/></a>"
      ]
    },
    {
      "cell_type": "markdown",
      "source": [
        "Recursion Assignment"
      ],
      "metadata": {
        "id": "pNMRo_v0gY0d"
      }
    },
    {
      "cell_type": "markdown",
      "source": [
        "f(n) = 7f(n-1) - 10f(n-2) f(0) = 1 f(1) = 3"
      ],
      "metadata": {
        "id": "Xl2F2mYNgz-U"
      }
    },
    {
      "cell_type": "markdown",
      "source": [
        "1. Using mathematical method taught in class to get analytic equation. Type up details and program function"
      ],
      "metadata": {
        "id": "CiOXykvuhIiu"
      }
    },
    {
      "cell_type": "markdown",
      "source": [
        "$$\n",
        "fr^n = 7fr^(n-1) - 10fr^(n-2)\n",
        "$$\n",
        "$$\n",
        "r^2 = 7r-10\n",
        "$$\n",
        "$$\n",
        "r^2-7r+10=0\n",
        "$$\n",
        "$$\n",
        "(r-2)(r-5)=0\n",
        "$$\n",
        "$$\n",
        "r=2, r=5\n",
        "$$\n",
        "$$\n",
        "fr^n = a*2^n+b*5^n\n",
        "$$\n",
        "$$\n",
        "f(0)= a+b=1\n",
        "$$\n",
        "$$\n",
        "f(1)= 2a+5b=3\n",
        "$$\n",
        "$$\n",
        "      3a+6b=4\n",
        "      $$\n",
        "      $$\n",
        "a=2/3 b=1/3\n",
        "$$\n",
        "$$\n",
        "f(n)=2/3*2^n+1/3*5^n\n",
        "$$"
      ],
      "metadata": {
        "id": "7Vop1BxUl-78"
      }
    },
    {
      "cell_type": "markdown",
      "source": [
        "2.Using dynamic programming"
      ],
      "metadata": {
        "id": "uewzqd3EhrNs"
      }
    },
    {
      "cell_type": "code",
      "source": [
        "def f(n):\n",
        "  if n==0:\n",
        "    return 1\n",
        "  elif n==1:\n",
        "    return 3\n",
        "  else:\n",
        "    return 7*f(n-1) - 10*f(n-2)\n",
        "\n",
        "f(1000)"
      ],
      "metadata": {
        "id": "fSAXgRi4huZb"
      },
      "execution_count": 20,
      "outputs": []
    },
    {
      "cell_type": "markdown",
      "source": [
        "3. Using dynamic programming and memoization"
      ],
      "metadata": {
        "id": "Of_AnccRibvP"
      }
    },
    {
      "cell_type": "code",
      "source": [
        "def amemo(n):\n",
        "  if n==0:\n",
        "    return 1\n",
        "  elif n==1:\n",
        "    return 3\n",
        "  else:\n",
        "    l=[0]*(n+1)\n",
        "    l[0]=1\n",
        "    l[1]=1\n",
        "    for i in range (2,n+1):\n",
        "      l[i] = 7*l[i-1] - 10*l[i-2]\n",
        "\n",
        "  l[1000]"
      ],
      "metadata": {
        "id": "Ra5amNc1ifDG"
      },
      "execution_count": 19,
      "outputs": []
    },
    {
      "cell_type": "markdown",
      "source": [
        "4.Compare the results of each function. Discuss the advantages and disadvantages of each method. Consider difficulty of solving and the time it would take to get the 1000 entry of the sequence in each of the three solutions"
      ],
      "metadata": {
        "id": "bOsb4ph-jW1S"
      }
    },
    {
      "cell_type": "markdown",
      "source": [
        "The result of the functions show the amount of processing power required to complete these functions for higher values. For the non memoization it doesn't require any memory and therefor doesn't take up storage, the downside is it will run slower as it has to compute every variable over again and has no memory therefor it cannot solve too high of values. The memoization one has memory and therefor will output quicker as it doesn't have to redo any value. The downside is it takes up memory and storage. For the memoization it is able to solve very quickly for the 100 entry while the non memoization can't solve it at all due to it taking too long and the program not allowing it to complete."
      ],
      "metadata": {
        "id": "Vz_Kb1WpjksC"
      }
    }
  ]
}