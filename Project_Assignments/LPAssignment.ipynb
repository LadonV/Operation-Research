{
  "nbformat": 4,
  "nbformat_minor": 0,
  "metadata": {
    "colab": {
      "provenance": [],
      "include_colab_link": true
    },
    "kernelspec": {
      "name": "python3",
      "display_name": "Python 3"
    },
    "language_info": {
      "name": "python"
    }
  },
  "cells": [
    {
      "cell_type": "markdown",
      "metadata": {
        "id": "view-in-github",
        "colab_type": "text"
      },
      "source": [
        "<a href=\"https://colab.research.google.com/github/LadonV/Operation-Research/blob/main/Project_Assignments/LPAssignment.ipynb\" target=\"_parent\"><img src=\"https://colab.research.google.com/assets/colab-badge.svg\" alt=\"Open In Colab\"/></a>"
      ]
    },
    {
      "cell_type": "markdown",
      "source": [
        "# Linear Programming Assignment"
      ],
      "metadata": {
        "id": "31GxmqsFEuzW"
      }
    },
    {
      "cell_type": "markdown",
      "source": [
        "## Redo a WeBWorK Question Using Python"
      ],
      "metadata": {
        "id": "xWsxg3k-EzBs"
      }
    },
    {
      "cell_type": "markdown",
      "source": [
        "Consider WW Set 03 Problem 3.  Using python, do the following:\n",
        "1. Copy your problem here.\n",
        "1. Find corner points.  \n",
        "2. Graph feasible set.\n",
        "3. Find the corner that maximizes the objective function $P = 3x+2y$.\n",
        "4. Introduce slack variables, find the corner points again.\n",
        "5. Solve using a built-in Linear Programming Solver.  Compare your answers."
      ],
      "metadata": {
        "id": "eLQofNfAGgoS"
      }
    },
    {
      "cell_type": "markdown",
      "source": [
        "## Redo a WeBWorK Question Using Python"
      ],
      "metadata": {
        "id": "OwGWpGToIx-L"
      }
    },
    {
      "cell_type": "markdown",
      "source": [
        "Consider WW Set 04 Problem 6.  Using python, do the following:\n",
        "1. Write the equations that describe the problem completely using $\\LaTeX$ encoding.   \n",
        "1. Find corner points.  \n",
        "2. Graph feasible set.\n",
        "3. Find the corner that maximizes the objective function.\n",
        "4. Introduce slack variables, find the corner points again.\n",
        "5. Solve using a built-in Linear Programming Solver.  Compare your answers."
      ],
      "metadata": {
        "id": "H7uUoaW6Ix-O"
      }
    },
    {
      "cell_type": "code",
      "source": [],
      "metadata": {
        "id": "mKfm4CHVIx-Q"
      },
      "execution_count": null,
      "outputs": []
    },
    {
      "cell_type": "code",
      "execution_count": null,
      "metadata": {
        "id": "w8ip_AnaIx-R"
      },
      "outputs": [],
      "source": []
    },
    {
      "cell_type": "markdown",
      "metadata": {
        "id": "ed51db47"
      },
      "source": [
        "# Task\n",
        "Solve the given linear programming problem: maximize $P=5x_1+6x_2+2x_3$ subject to $-x_1+x_2+10x_3 \\le 5$, $-x_1+2x_2+7x_3 \\le 4$, $x_1 +8x_2 +9x_3 \\le 7$, $x_1 \\ge 0$, $x_2 \\ge 0$, $x_3 \\ge 0$. Find the optimal values of $x_1$, $x_2$, and $x_3$, and the maximum value of $P$."
      ]
    },
    {
      "cell_type": "markdown",
      "metadata": {
        "id": "24703ebf"
      },
      "source": [
        "## Define the problem\n",
        "\n",
        "### Subtask:\n",
        "Write out the objective function and constraints in a clear format.\n"
      ]
    },
    {
      "cell_type": "markdown",
      "metadata": {
        "id": "de03ae32"
      },
      "source": [
        "**Reasoning**:\n",
        "Express the objective function and constraints in a clear format as requested in the instructions.\n",
        "\n"
      ]
    },
    {
      "cell_type": "code",
      "metadata": {
        "colab": {
          "base_uri": "https://localhost:8080/"
        },
        "id": "c7fc08ce",
        "outputId": "16f86d8a-24db-4508-9e4d-701f7d7d202c"
      },
      "source": [
        "print(\"Objective Function to Maximize:\")\n",
        "print(\"P = 5x1 + 6x2 + 2x3\")\n",
        "print(\"\\nSubject to the Constraints:\")\n",
        "print(\"-x1 + x2 + 10x3 <= 5\")\n",
        "print(\"-x1 + 2x2 + 7x3 <= 4\")\n",
        "print(\"x1 + 8x2 + 9x3 <= 7\")\n",
        "print(\"\\nNon-negativity Constraints:\")\n",
        "print(\"x1 >= 0\")\n",
        "print(\"x2 >= 0\")\n",
        "print(\"x3 >= 0\")"
      ],
      "execution_count": 1,
      "outputs": [
        {
          "output_type": "stream",
          "name": "stdout",
          "text": [
            "Objective Function to Maximize:\n",
            "P = 5x1 + 6x2 + 2x3\n",
            "\n",
            "Subject to the Constraints:\n",
            "-x1 + x2 + 10x3 <= 5\n",
            "-x1 + 2x2 + 7x3 <= 4\n",
            "x1 + 8x2 + 9x3 <= 7\n",
            "\n",
            "Non-negativity Constraints:\n",
            "x1 >= 0\n",
            "x2 >= 0\n",
            "x3 >= 0\n"
          ]
        }
      ]
    },
    {
      "cell_type": "markdown",
      "metadata": {
        "id": "e42de586"
      },
      "source": [
        "## Solve using a built-in linear programming solver\n",
        "\n",
        "### Subtask:\n",
        "Use a Python library like SciPy to solve the linear programming problem.\n"
      ]
    },
    {
      "cell_type": "markdown",
      "metadata": {
        "id": "b4816223"
      },
      "source": [
        "**Reasoning**:\n",
        "Import the necessary function from scipy and define the parameters for the linear programming problem, then solve it and print the results.\n",
        "\n"
      ]
    },
    {
      "cell_type": "code",
      "metadata": {
        "colab": {
          "base_uri": "https://localhost:8080/"
        },
        "id": "67d9c006",
        "outputId": "0b4b5961-8e80-422c-d90b-9d12a92b3ebf"
      },
      "source": [
        "from scipy.optimize import linprog\n",
        "import numpy as np\n",
        "\n",
        "c = np.array([-5, -6, -2])\n",
        "\n",
        "A_ub = np.array([\n",
        "    [-1, 1, 10],\n",
        "    [-1, 2, 7],\n",
        "    [1, 8, 9]\n",
        "])\n",
        "\n",
        "b_ub = np.array([5, 4, 7])\n",
        "\n",
        "x1_bounds = (0, None)\n",
        "x2_bounds = (0, None)\n",
        "x3_bounds = (0, None)\n",
        "\n",
        "result = linprog(c, A_ub=A_ub, b_ub=b_ub, bounds=[x1_bounds, x2_bounds, x3_bounds])\n",
        "\n",
        "print(result)"
      ],
      "execution_count": 2,
      "outputs": [
        {
          "output_type": "stream",
          "name": "stdout",
          "text": [
            "        message: Optimization terminated successfully. (HiGHS Status 7: Optimal)\n",
            "        success: True\n",
            "         status: 0\n",
            "            fun: -35.0\n",
            "              x: [ 7.000e+00  0.000e+00  0.000e+00]\n",
            "            nit: 0\n",
            "          lower:  residual: [ 7.000e+00  0.000e+00  0.000e+00]\n",
            "                 marginals: [ 0.000e+00  3.400e+01  4.300e+01]\n",
            "          upper:  residual: [       inf        inf        inf]\n",
            "                 marginals: [ 0.000e+00  0.000e+00  0.000e+00]\n",
            "          eqlin:  residual: []\n",
            "                 marginals: []\n",
            "        ineqlin:  residual: [ 1.200e+01  1.100e+01  0.000e+00]\n",
            "                 marginals: [-0.000e+00 -0.000e+00 -5.000e+00]\n",
            " mip_node_count: 0\n",
            " mip_dual_bound: 0.0\n",
            "        mip_gap: 0.0\n"
          ]
        }
      ]
    },
    {
      "cell_type": "markdown",
      "metadata": {
        "id": "84b65370"
      },
      "source": [
        "## Introduce slack variables\n",
        "\n",
        "### Subtask:\n",
        "Rewrite the constraints as equalities by introducing slack variables.\n"
      ]
    },
    {
      "cell_type": "markdown",
      "metadata": {
        "id": "2c47dd61"
      },
      "source": [
        "**Reasoning**:\n",
        "Introduce slack variables to convert the inequality constraints into equalities.\n",
        "\n"
      ]
    },
    {
      "cell_type": "code",
      "metadata": {
        "colab": {
          "base_uri": "https://localhost:8080/"
        },
        "id": "510835c9",
        "outputId": "3666f1ce-b46a-4c7f-9ad3-94214dce3c35"
      },
      "source": [
        "print(\"Original Constraints:\")\n",
        "print(\"-x1 + x2 + 10x3 <= 5\")\n",
        "print(\"-x1 + 2x2 + 7x3 <= 4\")\n",
        "print(\"x1 + 8x2 + 9x3 <= 7\")\n",
        "print(\"\\nConstraints with Slack Variables:\")\n",
        "print(\"-x1 + x2 + 10x3 + s1 = 5\")\n",
        "print(\"-x1 + 2x2 + 7x3 + s2 = 4\")\n",
        "print(\"x1 + 8x2 + 9x3 + s3 = 7\")\n",
        "print(\"\\nwhere s1, s2, and s3 are non-negative slack variables (s1 >= 0, s2 >= 0, s3 >= 0).\")"
      ],
      "execution_count": 3,
      "outputs": [
        {
          "output_type": "stream",
          "name": "stdout",
          "text": [
            "Original Constraints:\n",
            "-x1 + x2 + 10x3 <= 5\n",
            "-x1 + 2x2 + 7x3 <= 4\n",
            "x1 + 8x2 + 9x3 <= 7\n",
            "\n",
            "Constraints with Slack Variables:\n",
            "-x1 + x2 + 10x3 + s1 = 5\n",
            "-x1 + 2x2 + 7x3 + s2 = 4\n",
            "x1 + 8x2 + 9x3 + s3 = 7\n",
            "\n",
            "where s1, s2, and s3 are non-negative slack variables (s1 >= 0, s2 >= 0, s3 >= 0).\n"
          ]
        }
      ]
    },
    {
      "cell_type": "markdown",
      "metadata": {
        "id": "aa6e57bc"
      },
      "source": [
        "## Find corner points using slack variables\n",
        "\n",
        "### Subtask:\n",
        "Determine the corner points of the feasible region using the equations with slack variables.\n"
      ]
    },
    {
      "cell_type": "markdown",
      "metadata": {
        "id": "be48412b"
      },
      "source": [
        "**Reasoning**:\n",
        "Define the system of linear equations with slack variables and identify all possible combinations of setting 3 variables to zero to find potential corner points by solving the resulting systems.\n",
        "\n"
      ]
    },
    {
      "cell_type": "code",
      "metadata": {
        "colab": {
          "base_uri": "https://localhost:8080/"
        },
        "id": "4b683c3f",
        "outputId": "b1bd7ca1-a820-49a6-ba07-3122467d60e3"
      },
      "source": [
        "import numpy as np\n",
        "from itertools import combinations\n",
        "\n",
        "A = np.array([\n",
        "    [-1, 1, 10, 1, 0, 0],\n",
        "    [-1, 2, 7, 0, 1, 0],\n",
        "    [1, 8, 9, 0, 0, 1]\n",
        "])\n",
        "b = np.array([5, 4, 7])\n",
        "\n",
        "n_vars = A.shape[1]\n",
        "n_constraints = A.shape[0]\n",
        "n_zero_vars = n_vars - n_constraints\n",
        "\n",
        "corner_points = []\n",
        "\n",
        "for zero_indices in combinations(range(n_vars), n_zero_vars):\n",
        "    solve_indices = [i for i in range(n_vars) if i not in zero_indices]\n",
        "\n",
        "    A_sub = A[:, solve_indices]\n",
        "\n",
        "    if np.linalg.det(A_sub) != 0:\n",
        "        solution_sub = np.linalg.solve(A_sub, b)\n",
        "\n",
        "        solution = np.zeros(n_vars)\n",
        "        for i, original_index in enumerate(solve_indices):\n",
        "            solution[original_index] = solution_sub[i]\n",
        "\n",
        "        if np.all(solution >= -1e-9):\n",
        "            corner_points.append(solution)\n",
        "\n",
        "print(\"Potential Corner Points (x1, x2, x3, s1, s2, s3):\")\n",
        "for point in corner_points:\n",
        "    print(point)"
      ],
      "execution_count": 4,
      "outputs": [
        {
          "output_type": "stream",
          "name": "stdout",
          "text": [
            "Potential Corner Points (x1, x2, x3, s1, s2, s3):\n",
            "[0. 0. 0. 5. 4. 7.]\n",
            "[0.  0.  0.5 0.  0.5 2.5]\n",
            "[0.    0.875 0.    4.125 2.25  0.   ]\n",
            "[0.         0.35211268 0.46478873 0.         0.04225352 0.        ]\n",
            "[ 7.  0.  0. 12. 11.  0.]\n",
            "[1.31578947 0.         0.63157895 0.         0.89473684 0.        ]\n"
          ]
        }
      ]
    },
    {
      "cell_type": "markdown",
      "metadata": {
        "id": "347bf9f0"
      },
      "source": [
        "**Reasoning**:\n",
        "Filter the potential corner points to keep only the non-negative solutions which represent the feasible corner points of the original variables.\n",
        "\n"
      ]
    },
    {
      "cell_type": "code",
      "metadata": {
        "colab": {
          "base_uri": "https://localhost:8080/"
        },
        "id": "d50b791e",
        "outputId": "37390eea-0f6a-4c0a-a871-ea9276bd215a"
      },
      "source": [
        "feasible_corner_points = [point for point in corner_points if point[0] >= -1e-9 and point[1] >= -1e-9 and point[2] >= -1e-9]\n",
        "\n",
        "print(\"\\nFeasible Corner Points (x1, x2, x3):\")\n",
        "for point in feasible_corner_points:\n",
        "    print(point[:3])"
      ],
      "execution_count": 5,
      "outputs": [
        {
          "output_type": "stream",
          "name": "stdout",
          "text": [
            "\n",
            "Feasible Corner Points (x1, x2, x3):\n",
            "[0. 0. 0.]\n",
            "[0.  0.  0.5]\n",
            "[0.    0.875 0.   ]\n",
            "[0.         0.35211268 0.46478873]\n",
            "[7. 0. 0.]\n",
            "[1.31578947 0.         0.63157895]\n"
          ]
        }
      ]
    },
    {
      "cell_type": "markdown",
      "metadata": {
        "id": "7270ab92"
      },
      "source": [
        "## Find the corner that maximizes the objective function\n",
        "\n",
        "### Subtask:\n",
        "Find the corner that maximizes the objective function.\n"
      ]
    },
    {
      "cell_type": "markdown",
      "metadata": {
        "id": "71e2e910"
      },
      "source": [
        "**Reasoning**:\n",
        "Define the objective function and iterate through the feasible corner points to find the one that maximizes the objective function.\n",
        "\n"
      ]
    },
    {
      "cell_type": "code",
      "metadata": {
        "colab": {
          "base_uri": "https://localhost:8080/"
        },
        "id": "11ab55ca",
        "outputId": "3b75a0cf-5d70-4150-e43e-c6bf5194d395"
      },
      "source": [
        "def objective_function(point):\n",
        "\n",
        "    return 5 * point[0] + 6 * point[1] + 2 * point[2]\n",
        "\n",
        "max_p = -float('inf')\n",
        "optimal_corner_point = None\n",
        "\n",
        "for point in feasible_corner_points:\n",
        "    p_value = objective_function(point[:3])\n",
        "    if p_value > max_p:\n",
        "        max_p = p_value\n",
        "        optimal_corner_point = point[:3]\n",
        "\n",
        "print(\"\\nOptimal Corner Point (x1, x2, x3):\")\n",
        "print(optimal_corner_point)\n",
        "print(f\"\\nMaximum value of P: {max_p}\")"
      ],
      "execution_count": 6,
      "outputs": [
        {
          "output_type": "stream",
          "name": "stdout",
          "text": [
            "\n",
            "Optimal Corner Point (x1, x2, x3):\n",
            "[7. 0. 0.]\n",
            "\n",
            "Maximum value of P: 35.0\n"
          ]
        }
      ]
    }
  ]
}