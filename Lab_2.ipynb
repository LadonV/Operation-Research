{
  "nbformat": 4,
  "nbformat_minor": 0,
  "metadata": {
    "colab": {
      "provenance": [],
      "include_colab_link": true
    },
    "kernelspec": {
      "name": "python3",
      "display_name": "Python 3"
    },
    "language_info": {
      "name": "python"
    }
  },
  "cells": [
    {
      "cell_type": "markdown",
      "metadata": {
        "id": "view-in-github",
        "colab_type": "text"
      },
      "source": [
        "<a href=\"https://colab.research.google.com/github/LadonV/Operation-Research/blob/main/Lab_2.ipynb\" target=\"_parent\"><img src=\"https://colab.research.google.com/assets/colab-badge.svg\" alt=\"Open In Colab\"/></a>"
      ]
    },
    {
      "cell_type": "markdown",
      "source": [
        "# Problem Solving"
      ],
      "metadata": {
        "id": "jRaIKW6MbtEr"
      }
    },
    {
      "cell_type": "markdown",
      "source": [
        "## Factorials\n",
        "\n",
        "A factorial is the product of all previous numbers and is expressed with an exclamation $!$.  Thus\n",
        "$$\n",
        "3! = 3\\cdot 2\\cdot 1 = 6\n",
        "$$\n",
        "\n",
        "and\n",
        "$$\n",
        "n! = n(n-1)(n-2)\\cdots3\\cdot2\\cdot1\n",
        "$$\n",
        "\n",
        "How many zeros does $1000!$ end with?  Please do not count them in the number below as the precision may be off!"
      ],
      "metadata": {
        "id": "ABJslq5hb0Z-"
      }
    },
    {
      "cell_type": "code",
      "execution_count": null,
      "metadata": {
        "colab": {
          "base_uri": "https://localhost:8080/"
        },
        "id": "LfbWxWvKbsQb",
        "outputId": "4a9abe4f-5f94-40c8-c172-ff4f745dc9e6"
      },
      "outputs": [
        {
          "output_type": "execute_result",
          "data": {
            "text/plain": [
              "402387260077093773543702433923003985719374864210714632543799910429938512398629020592044208486969404800479988610197196058631666872994808558901323829669944590997424504087073759918823627727188732519779505950995276120874975462497043601418278094646496291056393887437886487337119181045825783647849977012476632889835955735432513185323958463075557409114262417474349347553428646576611667797396668820291207379143853719588249808126867838374559731746136085379534524221586593201928090878297308431392844403281231558611036976801357304216168747609675871348312025478589320767169132448426236131412508780208000261683151027341827977704784635868170164365024153691398281264810213092761244896359928705114964975419909342221566832572080821333186116811553615836546984046708975602900950537616475847728421889679646244945160765353408198901385442487984959953319101723355556602139450399736280750137837615307127761926849034352625200015888535147331611702103968175921510907788019393178114194545257223865541461062892187960223838971476088506276862967146674697562911234082439208160153780889893964518263243671616762179168909779911903754031274622289988005195444414282012187361745992642956581746628302955570299024324153181617210465832036786906117260158783520751516284225540265170483304226143974286933061690897968482590125458327168226458066526769958652682272807075781391858178889652208164348344825993266043367660176999612831860788386150279465955131156552036093988180612138558600301435694527224206344631797460594682573103790084024432438465657245014402821885252470935190620929023136493273497565513958720559654228749774011413346962715422845862377387538230483865688976461927383814900140767310446640259899490222221765904339901886018566526485061799702356193897017860040811889729918311021171229845901641921068884387121855646124960798722908519296819372388642614839657382291123125024186649353143970137428531926649875337218940694281434118520158014123344828015051399694290153483077644569099073152433278288269864602789864321139083506217095002597389863554277196742822248757586765752344220207573630569498825087968928162753848863396909959826280956121450994871701244516461260379029309120889086942028510640182154399457156805941872748998094254742173582401063677404595741785160829230135358081840096996372524230560855903700624271243416909004153690105933983835777939410970027753472000000000000000000000000000000000000000000000000000000000000000000000000000000000000000000000000000000000000000000000000000000000000000000000000000000000000000000000000000000000000000000000000000000000000000000000000000000000000000000000000000000000"
            ]
          },
          "metadata": {},
          "execution_count": 5
        }
      ],
      "source": [
        "import math\n",
        "\n",
        "math.factorial(1000)"
      ]
    },
    {
      "cell_type": "code",
      "metadata": {
        "colab": {
          "base_uri": "https://localhost:8080/"
        },
        "id": "4e37c3f1",
        "outputId": "0c6ca873-b1b3-47c6-e543-fb0ddfe85656"
      },
      "source": [
        "def trailing_zeros(n):\n",
        "    count = 0\n",
        "    i = 5\n",
        "    while n // i >= 1:\n",
        "        count += n // i\n",
        "        i *= 5\n",
        "    return count\n",
        "\n",
        "num_zeros = trailing_zeros(1000)\n",
        "print(f\"The number of trailing zeros in 1000! is: {num_zeros}\")"
      ],
      "execution_count": 1,
      "outputs": [
        {
          "output_type": "stream",
          "name": "stdout",
          "text": [
            "The number of trailing zeros in 1000! is: 249\n"
          ]
        }
      ]
    },
    {
      "cell_type": "markdown",
      "source": [
        "This code counts the number of trailing zeros using count = 0 then it counts the factors of 5. Then used a while loop to continue as long as n // i was greater than 1, this gives the number of 1 up to n, after that the count adds up the number of i into count. i is then multiplied by 5 due to the factors of 5. Latly it returns the number of trail zeros."
      ],
      "metadata": {
        "id": "vSLhwyK346Rv"
      }
    },
    {
      "cell_type": "markdown",
      "source": [
        "## Big Numbers\n",
        "\n",
        "The sum of the digits of the number $100^{13}-26$ is how much?"
      ],
      "metadata": {
        "id": "yZpb4Ghbc4Zo"
      }
    },
    {
      "cell_type": "code",
      "source": [
        "# Calculate 100^13 - 26\n",
        "number = 100**13 - 26\n",
        "\n",
        "# Convert the number to string, iterate over each digit, convert back to int, and sum them\n",
        "digit_sum = sum(int(digit) for digit in str(number))\n",
        "\n",
        "print(\"Sum of the digits:\", digit_sum)\n"
      ],
      "metadata": {
        "colab": {
          "base_uri": "https://localhost:8080/"
        },
        "id": "Ynk1s5b8fV3t",
        "outputId": "ccff2806-419c-49d6-e82b-faa6aaa16a4a"
      },
      "execution_count": 3,
      "outputs": [
        {
          "output_type": "stream",
          "name": "stdout",
          "text": [
            "Sum of the digits: 227\n"
          ]
        }
      ]
    },
    {
      "cell_type": "markdown",
      "source": [
        "This code takes the equation and calculates it, then converts the number to a string, iterates each didgit converts them back to an interager and sums the intergers."
      ],
      "metadata": {
        "id": "lDEbxMUVf5YE"
      }
    },
    {
      "cell_type": "markdown",
      "source": [
        "Here is how I thought to approach the problem..."
      ],
      "metadata": {
        "id": "V8ptErrNicgC"
      }
    },
    {
      "cell_type": "code",
      "source": [
        "x = '8675309'\n",
        "x"
      ],
      "metadata": {
        "colab": {
          "base_uri": "https://localhost:8080/",
          "height": 35
        },
        "id": "SMGHYyFjcbTs",
        "outputId": "4f942020-7c54-46b2-e4e8-697a7b15e990"
      },
      "execution_count": null,
      "outputs": [
        {
          "output_type": "execute_result",
          "data": {
            "text/plain": [
              "'8675309'"
            ],
            "application/vnd.google.colaboratory.intrinsic+json": {
              "type": "string"
            }
          },
          "metadata": {},
          "execution_count": 10
        }
      ]
    },
    {
      "cell_type": "code",
      "source": [
        "listofx = [int(digit) for digit in x]\n",
        "\n",
        "listofx"
      ],
      "metadata": {
        "colab": {
          "base_uri": "https://localhost:8080/"
        },
        "id": "lisdG2RhiMEw",
        "outputId": "083c4b84-b445-4c08-ea74-b96d17384d36"
      },
      "execution_count": null,
      "outputs": [
        {
          "output_type": "execute_result",
          "data": {
            "text/plain": [
              "[8, 6, 7, 5, 3, 0, 9]"
            ]
          },
          "metadata": {},
          "execution_count": 11
        }
      ]
    },
    {
      "cell_type": "markdown",
      "source": [
        "## Handshakes\n",
        "\n",
        "Two soccer teams have just finished their game.  The two teams of 11 all shake hands and the winning team also shakes hand with each other.  How many handshakes have occured?"
      ],
      "metadata": {
        "id": "5p6sa9qZio6Z"
      }
    },
    {
      "cell_type": "code",
      "source": [
        "import math\n",
        "\n",
        "def total_handshakes(team_size=11):\n",
        "    # Handshakes between teams\n",
        "    inter_team_handshakes = team_size * team_size  # 11 from Team A × 11 from Team B\n",
        "\n",
        "    # Handshakes within the winning team (choose 2 out of 11)\n",
        "    intra_team_handshakes = math.comb(team_size, 2)\n",
        "\n",
        "    return inter_team_handshakes + intra_team_handshakes\n",
        "\n",
        "print(\"Total handshakes:\", total_handshakes())\n"
      ],
      "metadata": {
        "colab": {
          "base_uri": "https://localhost:8080/"
        },
        "id": "H-J5n89QbAC4",
        "outputId": "45a49a2f-2eea-4bdc-dac7-7e9f29b07a2f"
      },
      "execution_count": 1,
      "outputs": [
        {
          "output_type": "stream",
          "name": "stdout",
          "text": [
            "Total handshakes: 176\n"
          ]
        }
      ]
    },
    {
      "cell_type": "markdown",
      "source": [
        "This code gives you the size of both teams being 11 and multiplying them, then adding the winning teams handshakes by using 11 choose 2 coming out to 55. Then adding the two and giving the total handshakes."
      ],
      "metadata": {
        "id": "lpQYmPhVbiVi"
      }
    },
    {
      "cell_type": "markdown",
      "source": [
        "## Harder Handshakes\n",
        "\n",
        "Mr. Smith and his wife invited four other couples for a dinner party.  When everyone arrived, handshakes were exchanged with some of the others.  Of course no one shook hands with their spouse and nobody shook hands with the same person twice.\n",
        "\n",
        "Mr. Smith asked everyone how many times they shook hands.  He recieved a different answer from each person.\n",
        "\n",
        "How many times did Mr. Smith shake hands?"
      ],
      "metadata": {
        "id": "g4ypceUKjJrp"
      }
    },
    {
      "cell_type": "code",
      "source": [
        "def find_mr_smith_handshakes():\n",
        "    # Total people: 10 (5 couples)\n",
        "    # Possible handshake counts: 0 through 8 (excluding own spouse)\n",
        "    handshake_counts = list(range(9))  # 0 to 8\n",
        "\n",
        "    # Pair them: (0,8), (1,7), ..., (4,?)\n",
        "    pairs = [(i, 8 - i) for i in range(4 + 1)]  # i from 0 to 4\n",
        "\n",
        "    # The person who shook 4 hands is unpaired — must be Mrs. Smith\n",
        "    mr_smith_handshakes = 4  # Because she shook hands with 4 people not including him\n",
        "\n",
        "    return mr_smith_handshakes\n",
        "\n",
        "print(\"Mr. Smith shook hands with\", find_mr_smith_handshakes(), \"people.\")\n"
      ],
      "metadata": {
        "id": "qyHeUOSajwat",
        "colab": {
          "base_uri": "https://localhost:8080/"
        },
        "outputId": "523237f5-a5e9-460c-cf58-adea06ee2f5b"
      },
      "execution_count": 2,
      "outputs": [
        {
          "output_type": "stream",
          "name": "stdout",
          "text": [
            "Mr. Smith shook hands with 4 people.\n"
          ]
        }
      ]
    },
    {
      "cell_type": "markdown",
      "source": [
        "This code solves the number of handshakes Mr. Smith did by taking the number of total handshakes a person could've done and taking into account each person having a different number of handshakes. Create the range of 9 then pair up the total number outcomes and the only number left over is left for Mr. Smith."
      ],
      "metadata": {
        "id": "rO9WNJD5dNWw"
      }
    }
  ]
}